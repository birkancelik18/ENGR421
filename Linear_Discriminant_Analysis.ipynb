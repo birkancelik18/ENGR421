{
 "cells": [
  {
   "cell_type": "markdown",
   "metadata": {},
   "source": [
    "### Linear Discriminant Analysis\n",
    "Birkan Çelik"
   ]
  },
  {
   "cell_type": "code",
   "execution_count": 2,
   "metadata": {},
   "outputs": [],
   "source": [
    "import matplotlib.pyplot as plt\n",
    "import numpy as np\n",
    "import scipy.linalg as linalg\n",
    "import pandas as pd\n",
    "from scipy.spatial import distance as spa\n",
    "from scipy import stats as sta\n",
    "from sklearn.metrics import confusion_matrix\n"
   ]
  },
  {
   "cell_type": "code",
   "execution_count": 3,
   "metadata": {},
   "outputs": [],
   "source": [
    "data_set = np.genfromtxt(\"hw07_data_set_images.csv\", delimiter=\",\")\n",
    "labels = np.genfromtxt(\"hw07_data_set_labels.csv\", delimiter=\",\")\n"
   ]
  },
  {
   "cell_type": "code",
   "execution_count": 4,
   "metadata": {},
   "outputs": [
    {
     "name": "stdout",
     "output_type": "stream",
     "text": [
      "K is: 10 D is : 784 N is: 2000\n"
     ]
    }
   ],
   "source": [
    "# read seperate data\n",
    "x_train = data_set[:2000]\n",
    "y_train = labels[:2000].astype(int)\n",
    "\n",
    "x_test = data_set[2000:]\n",
    "y_test = labels[2000:].astype(int)\n",
    "\n",
    "# number of classes\n",
    "N = x_train.shape[0]\n",
    "\n",
    "# get number of classes and number of features\n",
    "K = np.max(y_train)\n",
    "D = x_train.shape[1]\n",
    "\n",
    "print(\"K is:\", K, \"D is :\", D, \"N is:\", N)\n"
   ]
  },
  {
   "cell_type": "code",
   "execution_count": 5,
   "metadata": {},
   "outputs": [
    {
     "name": "stdout",
     "output_type": "stream",
     "text": [
      "(10, 784)\n"
     ]
    }
   ],
   "source": [
    "# calculate sample means\n",
    "sample_means = np.array(\n",
    "    [np.mean(x_train[y_train == t+1], axis=0) for t in range(K)])\n",
    "print(sample_means.shape)\n",
    "# calculate sample covariances\n",
    "sample_covariance = np.array(\n",
    "    [np.cov(np.transpose(x_train[y_train == t+1])) for t in range(K)])\n"
   ]
  },
  {
   "cell_type": "code",
   "execution_count": 6,
   "metadata": {},
   "outputs": [
    {
     "data": {
      "text/plain": [
       "(784,)"
      ]
     },
     "execution_count": 6,
     "metadata": {},
     "output_type": "execute_result"
    }
   ],
   "source": [
    "# total sample of the whole data\n",
    "sample_foreach = np.array(np.mean(x_train, axis=0))\n",
    "sample_foreach.shape\n"
   ]
  },
  {
   "cell_type": "code",
   "execution_count": 7,
   "metadata": {},
   "outputs": [],
   "source": [
    "# between class scatter matrix\n",
    "bet_cls_scatter = np.zeros((N, K)).astype(int)\n",
    "bet_cls_scatter[range(N), y_train-1] = 1\n"
   ]
  },
  {
   "cell_type": "code",
   "execution_count": 8,
   "metadata": {},
   "outputs": [],
   "source": [
    "# Within class scatter matrix\n",
    "within_class_scatter = np.sum(sample_covariance, axis=0)+np.diag(np.repeat(1e-10, D))\n"
   ]
  },
  {
   "cell_type": "code",
   "execution_count": 9,
   "metadata": {},
   "outputs": [
    {
     "data": {
      "text/plain": [
       "array([[  195.0531401 ,   138.98550725,   138.24154589,   273.64251208],\n",
       "       [  138.98550725,   146.68407152,   137.97108222,   212.80522823],\n",
       "       [  138.24154589,   137.97108222,   237.79940915,   222.04558827],\n",
       "       [  273.64251208,   212.80522823,   222.04558827, 10381.73114607]])"
      ]
     },
     "execution_count": 9,
     "metadata": {},
     "output_type": "execute_result"
    }
   ],
   "source": [
    "# calculate within class scatter matrix, Sw\n",
    "Sw = np.zeros((D,D))\n",
    "for i in range(K):\n",
    "    temp = np.where(y_train==i+1)[0]\n",
    "    sample_mean_rhaped = sample_means[i].reshape(D,1)\n",
    "    \n",
    "    for j in temp:\n",
    "        diff = x_train[j].reshape(D,1)-sample_mean_rhaped\n",
    "        Sw += np.dot(diff,diff.T)\n",
    "\n",
    "Sw[0:4, 0:4]"
   ]
  },
  {
   "cell_type": "code",
   "execution_count": 10,
   "metadata": {},
   "outputs": [
    {
     "data": {
      "text/plain": [
       "array([[ 0.8488599 ,  0.86049275,  1.26145411,  4.64248792],\n",
       "       [ 0.86049275,  1.07392848,  2.24791778,  8.49977177],\n",
       "       [ 1.26145411,  2.24791778,  6.68009085, 25.25691173],\n",
       "       [ 4.64248792,  8.49977177, 25.25691173, 97.25635393]])"
      ]
     },
     "execution_count": 10,
     "metadata": {},
     "output_type": "execute_result"
    }
   ],
   "source": [
    "\n",
    "Sb=np.sum([np.dot((sample_means[c]-sample_foreach).reshape(784,1),((sample_means[c]-sample_foreach).reshape(784,1)).T\n",
    "                )*np.sum(bet_cls_scatter,axis=0)[c] for c in range(K)]\n",
    "         ,axis=0)\n",
    "Sb.shape\n",
    "\n",
    "Sb[0:4, 0:4]\n"
   ]
  },
  {
   "cell_type": "code",
   "execution_count": 37,
   "metadata": {},
   "outputs": [
    {
     "name": "stdout",
     "output_type": "stream",
     "text": [
      "(784, 784)\n",
      "[26.03085646 11.57909822  7.86259994  5.12082313  3.60002676  3.22503144\n",
      "  2.71288241  1.3688596   1.13340931]\n"
     ]
    }
   ],
   "source": [
    "J=np.linalg.inv(Sw).dot(Sb)\n",
    "print(J.shape)\n",
    "values,vectors=linalg.eig(J)\n",
    "values=np.real(values)\n",
    "vectors=np.real(vectors)\n",
    "print(values[0:9])\n",
    "\n",
    "largest_nine_values = values[0:9]\n",
    "largest_two_vectors = vectors[:, 0:2] \n",
    "largest_nine_vectors = vectors[:, 0:9]\n",
    "\n",
    "Z_train = np.dot(x_train, largest_two_vectors)\n",
    "Z_test = np.dot(x_test, largest_two_vectors)\n",
    "\n"
   ]
  },
  {
   "cell_type": "code",
   "execution_count": 12,
   "metadata": {},
   "outputs": [],
   "source": [
    "colors = [\"#fc051a\", \"#004cff\", \"#00d150\",\"#34a832\",\"#3aba8f\", \"#a61d1b\", \"#c435b8\",   \"#cc127f\", \"#e7ebab\", \"#4444d4\"]"
   ]
  },
  {
   "cell_type": "code",
   "execution_count": 32,
   "metadata": {},
   "outputs": [
    {
     "data": {
      "image/png": "[encoded data removed]",
      "text/plain": [
       "<Figure size 360x360 with 1 Axes>"
      ]
     },
     "metadata": {
      "needs_background": "light"
     },
     "output_type": "display_data"
    }
   ],
   "source": [
    "plt.figure(figsize = (5,5))\n",
    "for i in range(N):\n",
    "    plt.scatter(Z_train[i,0],Z_train[i,1],color=colors[int(y_train[i])-1],s=4)"
   ]
  },
  {
   "cell_type": "code",
   "execution_count": 30,
   "metadata": {},
   "outputs": [
    {
     "data": {
      "image/png": "[encoded data removed]",
      "text/plain": [
       "<Figure size 360x360 with 1 Axes>"
      ]
     },
     "metadata": {
      "needs_background": "light"
     },
     "output_type": "display_data"
    }
   ],
   "source": [
    "plt.figure(figsize = (5,5))\n",
    "for i in range(N):\n",
    "    plt.scatter(Z_test[i,0],-Z_test[i,1],color=colors[int(y_test[i])-1],s=1)"
   ]
  },
  {
   "cell_type": "code",
   "execution_count": 31,
   "metadata": {},
   "outputs": [],
   "source": [
    "#Train data\n",
    "Z_train = np.dot(x_train, largest_nine_vectors)\n",
    "Z_test = np.dot(x_test, largest_nine_vectors)\n",
    "\n",
    "train_predictions = []\n",
    "\n",
    "for i in range(len(Z_train[:,1])):\n",
    "    v = Z_train[i, :]\n",
    "    initial_distances = np.zeros(Z_train.shape[0])\n",
    "    for j in range(len(Z_train[:,1])):\n",
    "        initial_distances[j] = spa.euclidean(v, Z_train[j, :])\n",
    "    smallest_dists_indices = np.argsort(initial_distances)[:11]\n",
    "    temp_labels = []\n",
    "    for x in smallest_dists_indices:\n",
    "        temp_labels.append(y_train[x])\n",
    "    prediction= sta.mode(temp_labels)[0]\n",
    "    train_predictions.append(prediction)\n",
    "\n"
   ]
  },
  {
   "cell_type": "code",
   "execution_count": 35,
   "metadata": {},
   "outputs": [
    {
     "name": "stdout",
     "output_type": "stream",
     "text": [
      "[[203   0   1   1   0   0  15   0   0   0]\n",
      " [  0 192   0   1   0   0   0   0   0   0]\n",
      " [  0   0 198   0   3   0  11   0   0   0]\n",
      " [  2   2   1 202   3   0   4   0   0   0]\n",
      " [  0   0   8   1 201   0   9   0   0   0]\n",
      " [  0   0   0   0   0 175   0   3   0   0]\n",
      " [  9   0   2   6  11   0 168   0   1   0]\n",
      " [  0   0   0   0   0   3   0 196   0   1]\n",
      " [  0   0   0   0   0   0   0   0 183   0]\n",
      " [  0   0   0   0   0   0   0   0   0 184]]\n"
     ]
    }
   ],
   "source": [
    "print((np.array(confusion_matrix(train_predictions, y_train))))"
   ]
  },
  {
   "cell_type": "code",
   "execution_count": null,
   "metadata": {},
   "outputs": [],
   "source": [
    "test_predictions = []\n",
    "\n",
    "for i in range(len(Z_test[:,1])):\n",
    "    v = Z_test[i, :]\n",
    "    initial_distances = np.zeros(Z_train.shape[0])\n",
    "    for j in range(len(Z_train[:,1])):\n",
    "        initial_distances[j] = spa.euclidean(v, Z_train[j, :])\n",
    "    smallest_dists_indices = np.argsort(initial_distances)[:11]\n",
    "    temp_labels = []\n",
    "    for x in smallest_dists_indices:\n",
    "        temp_labels.append(y_train[x])\n",
    "    prediction= sta.mode(temp_labels)[0]\n",
    "    test_predictions.append(prediction)\n",
    "    \n"
   ]
  },
  {
   "cell_type": "code",
   "execution_count": 36,
   "metadata": {},
   "outputs": [
    {
     "name": "stdout",
     "output_type": "stream",
     "text": [
      "[[142   1  21   7   1   2  42   0   6   2]\n",
      " [  0 183   1   4   2   0   1   0   0   0]\n",
      " [  3   1 115   1  25   1  26   0   5   0]\n",
      " [ 17   3   4 167   9   7  14   0  12   4]\n",
      " [  0   0  44   8 143   5  39   0   3   1]\n",
      " [  1   1   2   0   1 118   3  18  17  12]\n",
      " [ 28   0  16  11  17   5  83   0   3   0]\n",
      " [  0   0   0   1   0  32   0 167   2  14]\n",
      " [  4   0   2   1   1   7   4   0 135   0]\n",
      " [  0   0   0   0   0  25   1  19   5 172]]\n"
     ]
    }
   ],
   "source": [
    "print((np.array(confusion_matrix(test_predictions, y_test))))"
   ]
  }
 ],
 "metadata": {
  "interpreter": {
   "hash": "a74d363e2a2d91f5f2751358d2363debc6055b56167c83870cbb4512a486c81d"
  },
  "kernelspec": {
   "display_name": "Python 3.9.7 ('base')",
   "language": "python",
   "name": "python3"
  },
  "language_info": {
   "codemirror_mode": {
    "name": "ipython",
    "version": 3
   },
   "file_extension": ".py",
   "mimetype": "text/x-python",
   "name": "python",
   "nbconvert_exporter": "python",
   "pygments_lexer": "ipython3",
   "version": "3.9.7"
  },
  "orig_nbformat": 4
 },
 "nbformat": 4,
 "nbformat_minor": 2
}
