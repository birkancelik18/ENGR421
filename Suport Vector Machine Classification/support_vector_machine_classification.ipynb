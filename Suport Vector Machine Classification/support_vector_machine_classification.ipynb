{
 "cells": [
  {
   "cell_type": "code",
   "execution_count": 1,
   "metadata": {},
   "outputs": [],
   "source": [
    "import cvxopt as cvx\n",
    "import matplotlib.pyplot as plt\n",
    "import numpy as np\n",
    "import pandas as pd\n",
    "import scipy.spatial.distance as dt\n",
    "from sklearn.metrics import accuracy_score #For evaluating accuracy"
   ]
  },
  {
   "cell_type": "code",
   "execution_count": 2,
   "metadata": {},
   "outputs": [],
   "source": [
    "\n",
    "data_set = np.genfromtxt(\"hw06_data_set_images.csv\", delimiter = \",\")\n",
    "labels = np.genfromtxt(\"hw06_data_set_labels.csv\", delimiter = \",\")   "
   ]
  },
  {
   "cell_type": "code",
   "execution_count": 3,
   "metadata": {},
   "outputs": [],
   "source": [
    "x_train = data_set[:1000]\n",
    "y_train = labels[:1000]\n",
    "\n",
    "x_test = data_set[1000:]\n",
    "y_test = labels[1000:]\n",
    "\n",
    "number_of_bins = 64\n",
    "\n",
    "# get number of samples and number of features\n",
    "N_train = len(y_train)\n",
    "D_train = x_train.shape[1]\n",
    "\n",
    "number_of_classes  = 2"
   ]
  },
  {
   "cell_type": "code",
   "execution_count": 4,
   "metadata": {},
   "outputs": [
    {
     "name": "stdout",
     "output_type": "stream",
     "text": [
      "[[0.86479592 0.00127551 0.         0.00255102 0.        ]\n",
      " [0.66836735 0.         0.00127551 0.00127551 0.        ]\n",
      " [0.66454082 0.00637755 0.00382653 0.00765306 0.00892857]\n",
      " [0.65816327 0.00765306 0.00892857 0.00127551 0.00382653]\n",
      " [0.5625     0.00255102 0.00255102 0.00127551 0.        ]]\n",
      "[[0.68239796 0.00255102 0.00127551 0.00127551 0.00127551]\n",
      " [0.69770408 0.01658163 0.00510204 0.00382653 0.01020408]\n",
      " [0.73341837 0.02678571 0.01530612 0.00510204 0.00637755]\n",
      " [0.63903061 0.00892857 0.00255102 0.00127551 0.        ]\n",
      " [0.75382653 0.00765306 0.00127551 0.00127551 0.        ]]\n"
     ]
    }
   ],
   "source": [
    "#calculate histogram values for train dataset \n",
    "histogram_train = np.array([(np.histogram(x_train[i], bins=number_of_bins, range=(0, 256)))[0]  for i in range(len(x_train))])/len(x_train[0])\n",
    "bin_train = np.array([(np.histogram(x_train[i], bins=number_of_bins, range=(0, 256)))[1]  for i in range(len(x_train))])/len(x_train[0])\n",
    "#calculate histogram values for test dataset \n",
    "histogram_test = np.array([(np.histogram(x_test[i], bins=number_of_bins, range=(0, 256)))[0]  for i in range(len(x_test))])/len(x_train[0])\n",
    "\n",
    "print((histogram_train)[0:5,0:5])\n",
    "print((histogram_test)[0:5,0:5])\n"
   ]
  },
  {
   "cell_type": "code",
   "execution_count": 5,
   "metadata": {},
   "outputs": [
    {
     "name": "stdout",
     "output_type": "stream",
     "text": [
      "[[1.         0.72321429 0.77040816 0.75382653 0.62755102]\n",
      " [0.72321429 1.         0.73086735 0.78571429 0.68622449]\n",
      " [0.77040816 0.73086735 1.         0.84056122 0.70153061]\n",
      " [0.75382653 0.78571429 0.84056122 1.         0.76403061]\n",
      " [0.62755102 0.68622449 0.70153061 0.76403061 1.        ]]\n",
      "[[0.77806122 0.80867347 0.82142857 0.88647959 0.79209184]\n",
      " [0.79464286 0.76403061 0.84566327 0.86607143 0.77933673]\n",
      " [0.8380102  0.74362245 0.85714286 0.83035714 0.68877551]\n",
      " [0.71556122 0.84438776 0.75       0.83418367 0.75765306]\n",
      " [0.84438776 0.76785714 0.82397959 0.84183673 0.73469388]]\n"
     ]
    }
   ],
   "source": [
    "def histogram_intersection_kernel(histogram_1, histogram_2):\n",
    "    kernel = np.empty(shape=(histogram_1.shape[0], histogram_2.shape[0]), dtype=np.float64)\n",
    "    for i in range(histogram_1.shape[0]):\n",
    "        kernel[i] = np.sum(np.minimum(histogram_1[i], histogram_2), axis=1)\n",
    "    return kernel\n",
    "\n",
    "histogram_intersection_kernel_train= histogram_intersection_kernel(histogram_train, histogram_train)\n",
    "histogram_intersection_kernel_test= histogram_intersection_kernel(histogram_test, histogram_train)\n",
    "K_train = histogram_intersection_kernel(histogram_train, histogram_train)\n",
    "K_test = histogram_intersection_kernel(histogram_test, histogram_train)\n",
    "\n",
    "print(histogram_intersection_kernel_train[0:5,0:5])\n",
    "print(histogram_intersection_kernel_test[0:5,0:5])"
   ]
  },
  {
   "cell_type": "code",
   "execution_count": 6,
   "metadata": {},
   "outputs": [
    {
     "name": "stdout",
     "output_type": "stream",
     "text": [
      "     pcost       dcost       gap    pres   dres\n",
      " 0:  1.0887e+03 -6.1913e+04  1e+05  5e-01  4e-14\n",
      " 1:  1.2396e+03 -1.1654e+04  1e+04  6e-14  4e-14\n",
      " 2: -4.1568e+02 -3.9854e+03  4e+03  4e-14  3e-14\n",
      " 3: -8.3426e+02 -2.5760e+03  2e+03  4e-14  4e-14\n",
      " 4: -1.0562e+03 -1.7960e+03  7e+02  1e-13  4e-14\n",
      " 5: -1.2018e+03 -1.4485e+03  2e+02  3e-14  5e-14\n",
      " 6: -1.2586e+03 -1.3270e+03  7e+01  7e-14  5e-14\n",
      " 7: -1.2782e+03 -1.2901e+03  1e+01  9e-14  6e-14\n",
      " 8: -1.2826e+03 -1.2831e+03  5e-01  8e-14  6e-14\n",
      " 9: -1.2828e+03 -1.2828e+03  1e-02  2e-13  6e-14\n",
      "10: -1.2828e+03 -1.2828e+03  2e-04  2e-14  6e-14\n",
      "Optimal solution found.\n"
     ]
    }
   ],
   "source": [
    "# calculate Gaussian kernel\n",
    "s = 1\n",
    "K_train = histogram_intersection_kernel_train\n",
    "K_test = histogram_intersection_kernel_test\n",
    "\n",
    "yyK = np.matmul(y_train[:,None], y_train[None,:]) * K_train\n",
    "\n",
    "# set learning parameters\n",
    "C = 10\n",
    "epsilon = 0.001\n",
    "\n",
    "P = cvx.matrix(yyK)\n",
    "q = cvx.matrix(-np.ones((N_train, 1)))\n",
    "G = cvx.matrix(np.vstack((-np.eye(N_train), np.eye(N_train))))\n",
    "h = cvx.matrix(np.vstack((np.zeros((N_train, 1)), C * np.ones((N_train, 1)))))\n",
    "A = cvx.matrix(1.0 * y_train[None,:])\n",
    "b = cvx.matrix(0.0)\n",
    "                    \n",
    "# use cvxopt library to solve QP problems\n",
    "result = cvx.solvers.qp(P, q, G, h, A, b)\n",
    "alpha = np.reshape(result[\"x\"], N_train)\n",
    "alpha[alpha < C * epsilon] = 0\n",
    "alpha[alpha > C * (1 - epsilon)] = C\n",
    "\n",
    "# find bias parameter\n",
    "support_indices, = np.where(alpha != 0)\n",
    "active_indices, = np.where(np.logical_and(alpha != 0, alpha < C))\n",
    "w0 = np.mean(y_train[active_indices] * (1 - np.matmul(yyK[np.ix_(active_indices, support_indices)], alpha[support_indices])))"
   ]
  },
  {
   "cell_type": "code",
   "execution_count": 7,
   "metadata": {},
   "outputs": [
    {
     "name": "stdout",
     "output_type": "stream",
     "text": [
      "y_train      -1.0   1.0\n",
      "y_predicted            \n",
      "-1            484     9\n",
      " 1              9   498\n",
      "y_train      -1.0   1.0\n",
      "y_predicted            \n",
      "-1            466    25\n",
      " 1             37   472\n"
     ]
    }
   ],
   "source": [
    "# calculate predictions on training samples\n",
    "f_predicted = np.matmul(K_train, y_train[:,None] * alpha[:,None]) + w0\n",
    "\n",
    "# calculate confusion matrix\n",
    "y_predicted = 2 * (f_predicted > 0.0) - 1\n",
    "confusion_matrix_train = pd.crosstab(np.reshape(y_predicted, N_train), y_train,\n",
    "                               rownames = [\"y_predicted\"], colnames = [\"y_train\"])\n",
    "\n",
    "\n",
    "# calculate predictions on training samples\n",
    "f_predicted = np.matmul(K_test, y_train[:,None] * alpha[:,None]) + w0\n",
    "\n",
    "# calculate confusion matrix\n",
    "y_predicted = 2 * (f_predicted > 0.0) - 1\n",
    "\n",
    "confusion_matrix_test = pd.crosstab(np.reshape(y_predicted, N_train), y_test,\n",
    "                               rownames = [\"y_predicted\"], colnames = [\"y_train\"])\n",
    "\n",
    "print(confusion_matrix_train)\n",
    "print(confusion_matrix_test)\n",
    "\n"
   ]
  },
  {
   "cell_type": "code",
   "execution_count": 8,
   "metadata": {},
   "outputs": [],
   "source": [
    "# Since we use above calculation repetedly I defined them as functions below.\n",
    "\n",
    "def find_parameters(C):\n",
    "    # calculate Gaussian kernel\n",
    "    s = 10\n",
    "    yyK = np.matmul(y_train[:,None], y_train[None,:]) * K_train\n",
    "\n",
    "    # set learning parameters\n",
    "\n",
    "    epsilon = 0.001\n",
    "\n",
    "    P = cvx.matrix(yyK)\n",
    "    q = cvx.matrix(-np.ones((N_train, 1)))\n",
    "    G = cvx.matrix(np.vstack((-np.eye(N_train), np.eye(N_train))))\n",
    "    h = cvx.matrix(np.vstack((np.zeros((N_train, 1)), C * np.ones((N_train, 1)))))\n",
    "    A = cvx.matrix(1.0 * y_train[None,:])\n",
    "    b = cvx.matrix(0.0)\n",
    "                        \n",
    "    # use cvxopt library to solve QP problems\n",
    "    result = cvx.solvers.qp(P, q, G, h, A, b)\n",
    "    alpha = np.reshape(result[\"x\"], N_train)\n",
    "    alpha[alpha < C * epsilon] = 0\n",
    "    alpha[alpha > C * (1 - epsilon)] = C\n",
    "\n",
    "    # find bias parameter\n",
    "    support_indices, = np.where(alpha != 0)\n",
    "    active_indices, = np.where(np.logical_and(alpha != 0, alpha < C))\n",
    "    w0 = np.mean(y_train[active_indices] * (1 - np.matmul(yyK[np.ix_(active_indices, support_indices)], alpha[support_indices])))\n",
    "    \n",
    "    return alpha, w0"
   ]
  },
  {
   "cell_type": "code",
   "execution_count": 9,
   "metadata": {},
   "outputs": [],
   "source": [
    "def make_predictions_test_and_train(C):\n",
    "\n",
    "    alpha, w0 = find_parameters(C)\n",
    "    \n",
    "    # calculate predictions on training samples\n",
    "    f_predicted_train = np.matmul(K_train, y_train[:,None] * alpha[:,None]) + w0\n",
    "    y_predicted_train = 2 * (f_predicted_train > 0.0) - 1\n",
    "    y_predicted_train = np.reshape(y_predicted_train, N_train)\n",
    "    \n",
    "    # calculate predictions on training samples\n",
    "    f_predicted_test = np.matmul(K_test, y_train[:,None] * alpha[:,None]) + w0\n",
    "    # calculate confusion matrix\n",
    "    y_predicted_test = 2 * (f_predicted_test > 0.0) - 1\n",
    "    y_predicted_test = np.reshape(y_predicted_test, N_train)\n",
    "    return y_predicted_train, y_predicted_test"
   ]
  },
  {
   "cell_type": "code",
   "execution_count": 10,
   "metadata": {},
   "outputs": [],
   "source": [
    "# Accuracy score\n",
    "def accuracy_score(predicted_y, true_y):\n",
    "    score = 0\n",
    "    for index in range(len(true_y)):\n",
    "        if predicted_y[index] == true_y[index]:\n",
    "            score += 1\n",
    "    accuracy_score = float(score / len(predicted_y))\n",
    "    return accuracy_score"
   ]
  },
  {
   "cell_type": "code",
   "execution_count": 11,
   "metadata": {},
   "outputs": [
    {
     "name": "stdout",
     "output_type": "stream",
     "text": [
      "0.1\n",
      "     pcost       dcost       gap    pres   dres\n",
      " 0: -1.8751e+02 -2.4438e+02  7e+03  3e+01  5e-15\n",
      " 1: -6.2127e+01 -2.2353e+02  5e+02  1e+00  4e-15\n",
      " 2: -4.8341e+01 -1.2857e+02  8e+01  6e-16  1e-15\n",
      " 3: -5.3798e+01 -6.6369e+01  1e+01  2e-16  9e-16\n",
      " 4: -5.7212e+01 -6.1182e+01  4e+00  3e-16  8e-16\n",
      " 5: -5.8516e+01 -5.9343e+01  8e-01  2e-16  9e-16\n",
      " 6: -5.8814e+01 -5.8991e+01  2e-01  1e-15  1e-15\n",
      " 7: -5.8883e+01 -5.8910e+01  3e-02  2e-15  1e-15\n",
      " 8: -5.8895e+01 -5.8897e+01  2e-03  3e-15  1e-15\n",
      " 9: -5.8896e+01 -5.8896e+01  3e-05  2e-15  1e-15\n",
      "Optimal solution found.\n",
      "0.31622776601683794\n",
      "     pcost       dcost       gap    pres   dres\n",
      " 0: -2.1663e+02 -7.2291e+02  8e+03  8e+00  5e-15\n",
      " 1: -1.1031e+02 -6.1711e+02  7e+02  3e-01  4e-15\n",
      " 2: -1.1254e+02 -1.8088e+02  7e+01  1e-02  2e-15\n",
      " 3: -1.2553e+02 -1.5831e+02  3e+01  5e-03  2e-15\n",
      " 4: -1.3428e+02 -1.4269e+02  9e+00  1e-03  2e-15\n",
      " 5: -1.3682e+02 -1.3946e+02  3e+00  2e-04  2e-15\n",
      " 6: -1.3789e+02 -1.3812e+02  2e-01  3e-06  3e-15\n",
      " 7: -1.3799e+02 -1.3800e+02  8e-03  8e-08  3e-15\n",
      " 8: -1.3799e+02 -1.3799e+02  2e-04  2e-09  3e-15\n",
      " 9: -1.3799e+02 -1.3799e+02  6e-06  4e-11  3e-15\n",
      "Optimal solution found.\n",
      "1\n",
      "     pcost       dcost       gap    pres   dres\n",
      " 0: -2.9195e+02 -2.3170e+03  1e+04  3e+00  8e-15\n",
      " 1: -2.0833e+02 -1.4682e+03  2e+03  1e-01  6e-15\n",
      " 2: -2.3783e+02 -5.1959e+02  3e+02  2e-02  5e-15\n",
      " 3: -2.7877e+02 -3.6235e+02  9e+01  5e-03  6e-15\n",
      " 4: -2.9498e+02 -3.3365e+02  4e+01  2e-03  6e-15\n",
      " 5: -3.0553e+02 -3.1419e+02  9e+00  3e-04  7e-15\n",
      " 6: -3.0853e+02 -3.0943e+02  9e-01  1e-05  7e-15\n",
      " 7: -3.0888e+02 -3.0894e+02  6e-02  8e-07  7e-15\n",
      " 8: -3.0891e+02 -3.0891e+02  2e-03  2e-08  7e-15\n",
      " 9: -3.0891e+02 -3.0891e+02  8e-05  6e-10  8e-15\n",
      "Optimal solution found.\n",
      "3.1622776601683795\n",
      "     pcost       dcost       gap    pres   dres\n",
      " 0: -3.6264e+02 -9.4514e+03  2e+04  9e-01  2e-14\n",
      " 1: -2.2721e+02 -3.1424e+03  3e+03  1e-14  1e-14\n",
      " 2: -4.4950e+02 -1.2403e+03  8e+02  4e-15  1e-14\n",
      " 3: -5.5393e+02 -8.6102e+02  3e+02  5e-15  2e-14\n",
      " 4: -6.0205e+02 -7.4754e+02  1e+02  2e-15  2e-14\n",
      " 5: -6.3137e+02 -6.7923e+02  5e+01  1e-14  2e-14\n",
      " 6: -6.4327e+02 -6.5534e+02  1e+01  4e-14  2e-14\n",
      " 7: -6.4710e+02 -6.4838e+02  1e+00  7e-14  2e-14\n",
      " 8: -6.4763e+02 -6.4767e+02  4e-02  4e-14  2e-14\n",
      " 9: -6.4765e+02 -6.4765e+02  1e-03  3e-14  2e-14\n",
      "10: -6.4765e+02 -6.4765e+02  4e-05  7e-15  2e-14\n",
      "Optimal solution found.\n",
      "10\n",
      "     pcost       dcost       gap    pres   dres\n",
      " 0:  1.0887e+03 -6.1913e+04  1e+05  5e-01  4e-14\n",
      " 1:  1.2396e+03 -1.1654e+04  1e+04  6e-14  4e-14\n",
      " 2: -4.1568e+02 -3.9854e+03  4e+03  4e-14  3e-14\n",
      " 3: -8.3426e+02 -2.5760e+03  2e+03  4e-14  4e-14\n",
      " 4: -1.0562e+03 -1.7960e+03  7e+02  1e-13  4e-14\n",
      " 5: -1.2018e+03 -1.4485e+03  2e+02  3e-14  5e-14\n",
      " 6: -1.2586e+03 -1.3270e+03  7e+01  7e-14  5e-14\n",
      " 7: -1.2782e+03 -1.2901e+03  1e+01  9e-14  6e-14\n",
      " 8: -1.2826e+03 -1.2831e+03  5e-01  8e-14  6e-14\n",
      " 9: -1.2828e+03 -1.2828e+03  1e-02  2e-13  6e-14\n",
      "10: -1.2828e+03 -1.2828e+03  2e-04  2e-14  6e-14\n",
      "Optimal solution found.\n",
      "31.622776601683793\n",
      "     pcost       dcost       gap    pres   dres\n",
      " 0:  2.2427e+04 -5.1656e+05  1e+06  4e-01  1e-13\n",
      " 1:  1.8996e+04 -7.1786e+04  9e+04  4e-03  1e-13\n",
      " 2:  2.9639e+03 -1.8354e+04  2e+04  5e-04  9e-14\n",
      " 3: -7.2446e+02 -6.1810e+03  5e+03  4e-05  9e-14\n",
      " 4: -1.4993e+03 -3.5173e+03  2e+03  7e-06  1e-13\n",
      " 5: -1.8750e+03 -2.5457e+03  7e+02  5e-07  1e-13\n",
      " 6: -2.0021e+03 -2.2236e+03  2e+02  1e-14  1e-13\n",
      " 7: -2.0578e+03 -2.0873e+03  3e+01  1e-13  1e-13\n",
      " 8: -2.0671e+03 -2.0686e+03  2e+00  4e-13  1e-13\n",
      " 9: -2.0676e+03 -2.0677e+03  5e-02  3e-13  1e-13\n",
      "10: -2.0676e+03 -2.0676e+03  1e-03  1e-13  1e-13\n",
      "Optimal solution found.\n",
      "100\n",
      "     pcost       dcost       gap    pres   dres\n",
      " 0:  2.5739e+05 -4.8418e+06  9e+06  4e-01  4e-13\n",
      " 1:  2.0578e+05 -6.4991e+05  9e+05  9e-03  3e-13\n",
      " 2:  4.8818e+04 -1.5762e+05  2e+05  1e-03  3e-13\n",
      " 3:  1.1116e+04 -5.4314e+04  7e+04  1e-04  2e-13\n",
      " 4:  2.2378e+03 -2.2886e+04  3e+04  1e-05  2e-13\n",
      " 5: -6.1288e+02 -9.7518e+03  9e+03  3e-13  2e-13\n",
      " 6: -1.5849e+03 -4.4760e+03  3e+03  2e-13  1e-13\n",
      " 7: -1.9770e+03 -3.0466e+03  1e+03  1e-14  1e-13\n",
      " 8: -2.1693e+03 -2.4629e+03  3e+02  1e-13  2e-13\n",
      " 9: -2.2408e+03 -2.2803e+03  4e+01  3e-13  2e-13\n",
      "10: -2.2531e+03 -2.2544e+03  1e+00  2e-14  2e-13\n",
      "11: -2.2536e+03 -2.2536e+03  3e-02  3e-13  2e-13\n",
      "12: -2.2536e+03 -2.2536e+03  6e-04  2e-13  2e-13\n",
      "Optimal solution found.\n",
      "316.22776601683796\n",
      "     pcost       dcost       gap    pres   dres\n",
      " 0:  2.6753e+06 -4.7394e+07  9e+07  3e-01  1e-12\n",
      " 1:  2.1024e+06 -6.2790e+06  9e+06  1e-02  2e-12\n",
      " 2:  5.5668e+05 -1.5726e+06  2e+06  2e-03  1e-12\n",
      " 3:  1.6775e+05 -5.6539e+05  7e+05  2e-04  8e-13\n",
      " 4:  5.6989e+04 -2.3425e+05  3e+05  3e-05  6e-13\n",
      " 5:  2.2605e+04 -1.1536e+05  1e+05  6e-06  4e-13\n",
      " 6:  6.1357e+03 -4.1607e+04  5e+04  5e-13  4e-13\n",
      " 7: -6.9081e+02 -5.6641e+03  5e+03  2e-13  2e-13\n",
      " 8: -1.5711e+03 -3.5895e+03  2e+03  5e-14  1e-13\n",
      " 9: -1.9642e+03 -2.8168e+03  9e+02  6e-14  1e-13\n",
      "10: -2.1616e+03 -2.4565e+03  3e+02  6e-14  2e-13\n",
      "11: -2.2401e+03 -2.2797e+03  4e+01  1e-13  2e-13\n",
      "12: -2.2531e+03 -2.2544e+03  1e+00  2e-13  2e-13\n",
      "13: -2.2536e+03 -2.2536e+03  4e-02  3e-14  2e-13\n",
      "14: -2.2536e+03 -2.2536e+03  7e-04  1e-13  2e-13\n",
      "Optimal solution found.\n",
      "1000\n",
      "     pcost       dcost       gap    pres   dres\n",
      " 0:  2.7070e+07 -4.7071e+08  9e+08  3e-01  5e-12\n",
      " 1:  2.1160e+07 -6.2089e+07  9e+07  1e-02  6e-12\n",
      " 2:  5.7745e+06 -1.5709e+07  2e+07  2e-03  3e-12\n",
      " 3:  1.8430e+06 -5.7124e+06  8e+06  3e-04  2e-12\n",
      " 4:  6.5556e+05 -2.3681e+06  3e+06  4e-05  2e-12\n",
      " 5:  2.9164e+05 -1.1938e+06  1e+06  9e-06  1e-12\n",
      " 6:  8.7209e+04 -3.5657e+05  4e+05  8e-13  8e-13\n",
      " 7:  1.1272e+04 -2.9885e+04  4e+04  6e-13  5e-13\n",
      " 8: -2.5169e+02 -5.1052e+03  5e+03  2e-13  2e-13\n",
      " 9: -1.4609e+03 -3.2539e+03  2e+03  1e-13  1e-13\n",
      "10: -1.9373e+03 -2.7402e+03  8e+02  1e-13  1e-13\n",
      "11: -2.1511e+03 -2.4735e+03  3e+02  8e-14  2e-13\n",
      "12: -2.2395e+03 -2.2804e+03  4e+01  1e-14  2e-13\n",
      "13: -2.2530e+03 -2.2545e+03  1e+00  3e-13  2e-13\n",
      "14: -2.2536e+03 -2.2536e+03  4e-02  1e-13  2e-13\n",
      "15: -2.2536e+03 -2.2536e+03  8e-04  5e-15  2e-13\n",
      "Optimal solution found.\n"
     ]
    }
   ],
   "source": [
    "c_list = [10**(-1),10**(-0.5),10**0,10**(0.5),10**1,10**(1.5),10**2,10**(2.5),10**3]\n",
    "K_train = histogram_intersection_kernel(histogram_train, histogram_train)\n",
    "K_test = histogram_intersection_kernel(histogram_test, histogram_train)\n",
    "\n",
    "test_accuracies = []\n",
    "train_accuracies = []\n",
    "\n",
    "for C in c_list:\n",
    "    #print(C)\n",
    "    y_predicted_train , y_predicted_test = make_predictions_test_and_train(C)\n",
    "\n",
    "    accuracy_score_train = accuracy_score(y_predicted_train, y_train)\n",
    "    train_accuracies.append(accuracy_score_train)\n",
    "\n",
    "    accuracy_score_test = accuracy_score(y_predicted_test, y_test)\n",
    "    test_accuracies.append(accuracy_score_test)\n",
    "\n"
   ]
  },
  {
   "cell_type": "code",
   "execution_count": 12,
   "metadata": {},
   "outputs": [
    {
     "name": "stdout",
     "output_type": "stream",
     "text": [
      "[0.849, 0.896, 0.931, 0.934, 0.938, 0.923, 0.922, 0.921, 0.921]\n"
     ]
    },
    {
     "data": {
      "image/png": "[encoded data removed]",
      "text/plain": [
       "<Figure size 1080x360 with 1 Axes>"
      ]
     },
     "metadata": {
      "needs_background": "light"
     },
     "output_type": "display_data"
    }
   ],
   "source": [
    "#print(test_accuracies) #[0.849, 0.896, 0.931, 0.934, 0.938, 0.923, 0.922, 0.921, 0.921]\n",
    "\n",
    "plt.figure(figsize=(15, 5))\n",
    "\n",
    "\"\"\"\n",
    "plt.plot(c_list, train_accuracies, color = \"blue\", label=\"training\")  \n",
    "plt.scatter(c_list, train_accuracies, color = \"blue\", linewidths=2) \n",
    "\n",
    "plt.plot(c_list, test_accuracies, color = \"red\", label=\"test\") \n",
    "plt.scatter(c_list, test_accuracies, color = \"red\", linewidths=2) \n",
    "\"\"\"\n",
    "plt.plot(c_list, train_accuracies, \"-ob\", markersize=4, label='training')\n",
    "plt.plot(c_list, test_accuracies, \"-or\", markersize=4, label='test')\n",
    "plt.xscale('log')\n",
    "plt.xlabel(\"Regularization Parameter (C)\")\n",
    "plt.ylabel(\"Accuracy\")\n",
    "plt.legend(loc='upper left')\n",
    "plt.show()"
   ]
  }
 ],
 "metadata": {
  "interpreter": {
   "hash": "9f78213aa9fd028bb9ad06dcc967087e53fe35f5697e2cd44f2601fbb8dca2a1"
  },
  "kernelspec": {
   "display_name": "Python 3.9.7 ('base')",
   "language": "python",
   "name": "python3"
  },
  "language_info": {
   "codemirror_mode": {
    "name": "ipython",
    "version": 3
   },
   "file_extension": ".py",
   "mimetype": "text/x-python",
   "name": "python",
   "nbconvert_exporter": "python",
   "pygments_lexer": "ipython3",
   "version": "3.9.7"
  },
  "orig_nbformat": 4
 },
 "nbformat": 4,
 "nbformat_minor": 2
}
